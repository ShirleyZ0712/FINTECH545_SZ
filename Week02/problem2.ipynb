{
 "cells": [
  {
   "cell_type": "code",
   "execution_count": 38,
   "id": "0fd1d306",
   "metadata": {},
   "outputs": [],
   "source": [
    "import pandas as pd\n",
    "import numpy as np\n",
    "from scipy.optimize import minimize\n",
    "from scipy.stats import t, norm\n",
    "file = 'problem2.csv'\n",
    "problem2_data = pd.read_csv(file)"
   ]
  },
  {
   "cell_type": "code",
   "execution_count": 39,
   "id": "d86fd738",
   "metadata": {},
   "outputs": [
    {
     "name": "stdout",
     "output_type": "stream",
     "text": [
      "OLS Results:\n",
      "Beta values (OLS): \n",
      "[-0.08738446  0.7752741 ]\n",
      "Sigma: 1.008813058320225\n"
     ]
    }
   ],
   "source": [
    "#Part1 - 1: OLS\n",
    "n = problem2_data.shape[0]\n",
    "X = np.column_stack((np.ones(n), problem2_data['x']))\n",
    "Y = problem2_data['y'].values\n",
    "\n",
    "#Use the week2's notes to calculate on matrix\n",
    "X_transpose = X.T\n",
    "XTX = X_transpose.dot(X)\n",
    "XTX_inv = np.linalg.inv(XTX)\n",
    "XTY = X_transpose.dot(Y)\n",
    "beta_ols = XTX_inv.dot(XTY)\n",
    "\n",
    "residuals = Y - X.dot(beta_ols)\n",
    "s_squared = (residuals.T.dot(residuals)) / (n - X.shape[1])\n",
    "\n",
    "sigma_squared = s_squared\n",
    "cov_matrix_beta = sigma_squared * XTX_inv\n",
    "\n",
    "print(\"OLS Results:\")\n",
    "print(f\"Beta values (OLS): \\n{beta_ols}\")\n",
    "print(f\"Sigma: {np.sqrt(s_squared)}\")"
   ]
  },
  {
   "cell_type": "code",
   "execution_count": 40,
   "id": "da42b3c6",
   "metadata": {
    "scrolled": true
   },
   "outputs": [
    {
     "name": "stdout",
     "output_type": "stream",
     "text": [
      "MLE Model:\n",
      "Beta values (MLE): [-0.08738448  0.77527408]\n",
      "Sigma: 1.0037563087311683\n"
     ]
    }
   ],
   "source": [
    "#Part1 - 1: MLE\n",
    "def log_likelihood_normal(params, X, y):\n",
    "    beta = params[:-1]\n",
    "    sigma = params[-1]\n",
    "    \n",
    "    y_pred = X @ beta\n",
    "    n = len(y)\n",
    "    \n",
    "    ll = -0.5 * n * np.log(2 * np.pi * sigma**2) - (0.5 / sigma**2) * np.sum((y - y_pred)**2)\n",
    "    \n",
    "    return -ll\n",
    "\n",
    "X_mle = np.column_stack([np.ones(len(problem2_data['x'])), problem2_data['x']])\n",
    "y_mle = problem2_data['y']\n",
    "\n",
    "initial_params = np.append(np.zeros(X_mle.shape[1]), 1)\n",
    "\n",
    "mle_fit = minimize(log_likelihood_normal, initial_params, args=(X_mle, y_mle), method='BFGS')\n",
    "\n",
    "beta_mle = mle_fit.x[:-1]\n",
    "sigma_mle = mle_fit.x[-1]\n",
    "\n",
    "print(\"MLE Model:\")\n",
    "print(f\"Beta values (MLE): {beta_mle}\")\n",
    "print(f\"Sigma: {sigma_mle}\")"
   ]
  },
  {
   "cell_type": "code",
   "execution_count": 42,
   "id": "b1067b60",
   "metadata": {},
   "outputs": [
    {
     "name": "stdout",
     "output_type": "stream",
     "text": [
      "\n",
      "T-distribution MLE Results:\n",
      "Intercept: -0.0878, Beta: 0.7737, df: 384.4406, Sigma: 1.1906\n",
      "AIC for T-distribution model: 545.8889\n",
      "BIC for T-distribution model: 559.0821\n",
      "\n",
      "Normal distribution MLE Results:\n",
      "Intercept: -0.0874, Beta: 0.7753, Sigma: 1.0038\n",
      "AIC for normal distribution model: 575.0751\n",
      "BIC for normal distribution model: 584.9701\n",
      "\n",
      "The T-distribution model provides a better fit based on AIC.\n",
      "The T-distribution model provides a better fit based on BIC.\n"
     ]
    }
   ],
   "source": [
    "#Part2 \n",
    "#T-distribution\n",
    "def log_likelihood_t(params, X, y):\n",
    "    beta = params[:-2]\n",
    "    df = params[-2]\n",
    "    sigma = params[-1]\n",
    "    y_pred = X @ beta\n",
    "    resid = (y - y_pred) / sigma\n",
    "    ll = np.sum(t.logpdf(resid, df, scale=sigma))\n",
    "    return -ll\n",
    "\n",
    "# AIC and BIC calculation\n",
    "def calculate_aic(log_likelihood, num_params):\n",
    "    return 2 * num_params - 2 * log_likelihood\n",
    "\n",
    "def calculate_bic(log_likelihood, num_params, n):\n",
    "    return np.log(n) * num_params - 2 * log_likelihood\n",
    "\n",
    "def main():\n",
    "    y_mle = problem2_data[\"y\"].values\n",
    "    X_mle = np.column_stack([np.ones(len(problem2_data['x'])), problem2_data['x']])\n",
    "\n",
    "    initial_params_t = [0, 1, 10, 1]\n",
    "    result_t = minimize(log_likelihood_t, initial_params_t, args=(X_mle, y_mle), method=\"L-BFGS-B\")\n",
    "    log_likelihood_t_val = -result_t.fun\n",
    "    intercept_hat_t, beta_hat_t, df_hat_t, sigma_hat_t = result_t.x\n",
    "    print(\"\\nT-distribution MLE Results:\")\n",
    "    print(f\"Intercept: {intercept_hat_t.round(4)}, Beta: {beta_hat_t.round(4)}, df: {df_hat_t.round(4)}, Sigma: {sigma_hat_t.round(4)}\")\n",
    "\n",
    "    aic_t = calculate_aic(log_likelihood_t_val, len(initial_params_t))\n",
    "    bic_t = calculate_bic(log_likelihood_t_val, len(initial_params_t), len(y_mle))\n",
    "    print(f\"AIC for T-distribution model: {round(aic_t, 4)}\")\n",
    "    print(f\"BIC for T-distribution model: {round(bic_t, 4)}\")\n",
    "\n",
    "    initial_params_n = [0, 1, 1]\n",
    "    result_n = minimize(log_likelihood_normal, initial_params_n, args=(X_mle, y_mle), method=\"L-BFGS-B\")\n",
    "    log_likelihood_n_val = -result_n.fun\n",
    "    intercept_hat_n, beta_hat_n, sigma_hat_n = result_n.x\n",
    "    print(\"\\nNormal distribution MLE Results:\")\n",
    "    print(f\"Intercept: {intercept_hat_n.round(4)}, Beta: {beta_hat_n.round(4)}, Sigma: {sigma_hat_n.round(4)}\")\n",
    "\n",
    "    aic_n = calculate_aic(log_likelihood_n_val, len(initial_params_n))\n",
    "    bic_n = calculate_bic(log_likelihood_n_val, len(initial_params_n), len(y_mle))\n",
    "    print(f\"AIC for normal distribution model: {round(aic_n, 4)}\")\n",
    "    print(f\"BIC for normal distribution model: {round(bic_n, 4)}\")\n",
    "\n",
    "    if aic_t < aic_n:\n",
    "        print(\"\\nThe T-distribution model provides a better fit based on AIC.\")\n",
    "    else:\n",
    "        print(\"\\nThe Normal distribution model provides a better fit based on AIC.\")\n",
    "    \n",
    "    if bic_t < bic_n:\n",
    "        print(\"The T-distribution model provides a better fit based on BIC.\")\n",
    "    else:\n",
    "        print(\"The Normal distribution model provides a better fit based on BIC.\")\n",
    "\n",
    "main()"
   ]
  }
 ],
 "metadata": {
  "kernelspec": {
   "display_name": "Python 3",
   "language": "python",
   "name": "python3"
  },
  "language_info": {
   "codemirror_mode": {
    "name": "ipython",
    "version": 3
   },
   "file_extension": ".py",
   "mimetype": "text/x-python",
   "name": "python",
   "nbconvert_exporter": "python",
   "pygments_lexer": "ipython3",
   "version": "3.8.8"
  }
 },
 "nbformat": 4,
 "nbformat_minor": 5
}
