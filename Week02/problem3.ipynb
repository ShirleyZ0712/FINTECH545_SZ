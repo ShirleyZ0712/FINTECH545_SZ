{
 "cells": [
  {
   "cell_type": "code",
   "execution_count": 16,
   "id": "8722ff85",
   "metadata": {},
   "outputs": [
    {
     "data": {
      "image/png": "[encoded data removed]",
      "text/plain": [
       "<Figure size 864x432 with 1 Axes>"
      ]
     },
     "metadata": {
      "needs_background": "light"
     },
     "output_type": "display_data"
    }
   ],
   "source": [
    "import matplotlib.pyplot as plt\n",
    "from statsmodels.graphics.tsaplots import plot_acf\n",
    "\n",
    "plt.figure(figsize=(12, 6))\n",
    "\n",
    "plot_acf(problem3_data['x'], lags=40, ax=plt.gca())\n",
    "plt.title('Autocorrelation Function')\n",
    "\n",
    "plt.show()\n"
   ]
  },
  {
   "cell_type": "code",
   "execution_count": 15,
   "id": "1c58ab0d",
   "metadata": {},
   "outputs": [
    {
     "name": "stdout",
     "output_type": "stream",
     "text": [
      "   Model          AIC\n",
      "0  AR(1)  1644.655505\n",
      "1  AR(2)  1581.079266\n",
      "2  AR(3)  1436.659807\n",
      "3  MA(1)  1567.403626\n",
      "4  MA(2)  1537.941206\n",
      "5  MA(3)  1536.867709\n",
      "Best model based on AIC: AR(3)\n"
     ]
    }
   ],
   "source": [
    "from statsmodels.tsa.arima.model import ARIMA\n",
    "model_comparison = {}\n",
    "\n",
    "# AR(1) Model\n",
    "ar1_model = ARIMA(problem3_data['x'], order=(1, 0, 0)).fit()\n",
    "model_comparison['AR(1)'] = ar1_model.aic\n",
    "\n",
    "# AR(2) Model\n",
    "ar2_model = ARIMA(problem3_data['x'], order=(2, 0, 0)).fit()\n",
    "model_comparison['AR(2)'] = ar2_model.aic\n",
    "\n",
    "# AR(3) Model\n",
    "ar3_model = ARIMA(problem3_data['x'], order=(3, 0, 0)).fit()\n",
    "model_comparison['AR(3)'] = ar3_model.aic\n",
    "\n",
    "# MA(1) Model\n",
    "ma1_model = ARIMA(problem3_data['x'], order=(0, 0, 1)).fit()\n",
    "model_comparison['MA(1)'] = ma1_model.aic\n",
    "\n",
    "# MA(2) Model\n",
    "ma2_model = ARIMA(problem3_data['x'], order=(0, 0, 2)).fit()\n",
    "model_comparison['MA(2)'] = ma2_model.aic\n",
    "\n",
    "# MA(3) Model\n",
    "ma3_model = ARIMA(problem3_data['x'], order=(0, 0, 3)).fit()\n",
    "model_comparison['MA(3)'] = ma3_model.aic\n",
    "\n",
    "best_model = min(model_comparison, key=model_comparison.get)\n",
    "results_df = pd.DataFrame(list(model_comparison.items()), columns=['Model', 'AIC'])\n",
    "\n",
    "print(results_df)\n",
    "print(f\"Best model based on AIC: {best_model}\")"
   ]
  }
 ],
 "metadata": {
  "kernelspec": {
   "display_name": "Python 3",
   "language": "python",
   "name": "python3"
  },
  "language_info": {
   "codemirror_mode": {
    "name": "ipython",
    "version": 3
   },
   "file_extension": ".py",
   "mimetype": "text/x-python",
   "name": "python",
   "nbconvert_exporter": "python",
   "pygments_lexer": "ipython3",
   "version": "3.8.8"
  }
 },
 "nbformat": 4,
 "nbformat_minor": 5
}
