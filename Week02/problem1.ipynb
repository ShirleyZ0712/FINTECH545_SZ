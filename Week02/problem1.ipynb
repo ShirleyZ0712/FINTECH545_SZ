{
 "cells": [
  {
   "cell_type": "code",
   "execution_count": 25,
   "id": "2a5b5289",
   "metadata": {},
   "outputs": [
    {
     "name": "stdout",
     "output_type": "stream",
     "text": [
      "Mean: 1.0489703904839582\n",
      "Variance: 5.4272206818817255\n",
      "Skewness: 0.8792880598472457\n",
      "Kurtosis: 23.06998251061053\n"
     ]
    }
   ],
   "source": [
    "#Part 1 - Using the normalized formulas from week1\n",
    "import pandas as pd\n",
    "\n",
    "file = 'problem1.csv'\n",
    "data = pd.read_csv(file)\n",
    "\n",
    "x = data['x'].values\n",
    "n = len(x)\n",
    "\n",
    "#Mean\n",
    "mean_x = sum(x) / n\n",
    "\n",
    "#Variance\n",
    "variance_x = sum((xi - mean_x) ** 2 for xi in x) / (n - 1)\n",
    "\n",
    "#Skewness\n",
    "skewness_x = (sum((xi - mean_x) ** 3 for xi in x) / n) / (variance_x ** (3/2))\n",
    "\n",
    "#Kurtosis\n",
    "kurtosis_x = (sum((xi - mean_x) ** 4 for xi in x) / n) / (variance_x ** 2) - 3\n",
    "\n",
    "# Print the results\n",
    "print(f\"Mean: {mean_x}\")\n",
    "print(f\"Variance: {variance_x}\")\n",
    "print(f\"Skewness: {skewness_x}\")\n",
    "print(f\"Kurtosis: {kurtosis_x}\")"
   ]
  },
  {
   "cell_type": "code",
   "execution_count": 29,
   "id": "e473855d",
   "metadata": {},
   "outputs": [
    {
     "name": "stdout",
     "output_type": "stream",
     "text": [
      "Mean: 1.0489703904839585\n",
      "Variance: 5.4217934611998455\n",
      "Skewness: 0.8806086425277364\n",
      "Kurtosis: 23.122200789989723\n"
     ]
    }
   ],
   "source": [
    "#Part 2 - From the statistical package\n",
    "import scipy.stats as stats\n",
    "\n",
    "mean = np.mean(x)\n",
    "variance = np.var(x)\n",
    "skewness = stats.skew(x)\n",
    "kurtosis = stats.kurtosis(x)\n",
    "\n",
    "# Print the results\n",
    "print(f\"Mean: {mean}\")\n",
    "print(f\"Variance: {variance}\")\n",
    "print(f\"Skewness: {skewness}\")\n",
    "print(f\"Kurtosis: {kurtosis}\")"
   ]
  },
  {
   "cell_type": "code",
   "execution_count": 42,
   "id": "7d7ee464",
   "metadata": {},
   "outputs": [
    {
     "name": "stdout",
     "output_type": "stream",
     "text": [
      "\n",
      "Results for Sample Size: 100\n",
      "Reject H0 for Mean.\n",
      "Reject H0 for variance.\n",
      "Fail to reject H0 for skewness.\n",
      "Fail to reject H0 for kurtosis.\n",
      "\n",
      "Results for Sample Size: 1000\n",
      "Reject H0 for Mean.\n",
      "Reject H0 for variance.\n",
      "Fail to reject H0 for skewness.\n",
      "Fail to reject H0 for kurtosis.\n",
      "\n",
      "Results for Sample Size: 100000\n",
      "Reject H0 for Mean.\n",
      "Reject H0 for variance.\n",
      "Fail to reject H0 for skewness.\n",
      "Reject H0 for kurtosis.\n",
      "\n",
      "Results for Sample Size: 1000000\n",
      "Reject H0 for Mean.\n",
      "Reject H0 for variance.\n",
      "Fail to reject H0 for skewness.\n",
      "Reject H0 for kurtosis.\n",
      "\n",
      "Summary Results for all Sample Sizes:\n",
      "   Sample Size  P-value Mean  P-value Variance  P-value Skewness  \\\n",
      "0          100           NaN               NaN          0.995698   \n",
      "1         1000           NaN               NaN          0.986398   \n",
      "2       100000           NaN               NaN          0.864628   \n",
      "3      1000000           NaN               NaN          0.589800   \n",
      "\n",
      "   P-value Kurtosis  \n",
      "0          0.915114  \n",
      "1          0.736066  \n",
      "2          0.000750  \n",
      "3          0.000000  \n"
     ]
    },
    {
     "name": "stderr",
     "output_type": "stream",
     "text": [
      "C:\\Users\\22004\\anaconda3\\lib\\site-packages\\numpy\\core\\fromnumeric.py:3702: RuntimeWarning: Degrees of freedom <= 0 for slice\n",
      "  return _methods._var(a, axis=axis, dtype=dtype, out=out, ddof=ddof,\n",
      "C:\\Users\\22004\\anaconda3\\lib\\site-packages\\numpy\\core\\_methods.py:253: RuntimeWarning: invalid value encountered in double_scalars\n",
      "  ret = ret.dtype.type(ret / rcount)\n"
     ]
    }
   ],
   "source": [
    "sample = [100, 1000, 100000, 1000000]\n",
    "results = []\n",
    "alpha = 0.05\n",
    "\n",
    "for n in sample:\n",
    "    #Perform t-test for mean and variance\n",
    "    mean_diff = mean - mean_x\n",
    "    t_stat_mean, p_value_mean = stats.ttest_1samp([mean_diff], 0)\n",
    "\n",
    "    variance_diff = variance - variance_x\n",
    "    t_stat_variance, p_value_variance = stats.ttest_1samp([variance_diff], 0)\n",
    "\n",
    "    #Perform Z-test for skewness and kurtosis\n",
    "    se_skewness = np.sqrt(6 / n)\n",
    "    z_skewness = (skewness - skewness_x) / se_skewness\n",
    "    p_value_skewness = 2 * (1 - stats.norm.cdf(abs(z_skewness)))\n",
    "\n",
    "    se_kurtosis = np.sqrt(24 / n)\n",
    "    z_kurtosis = (kurtosis - kurtosis_x) / se_kurtosis\n",
    "    p_value_kurtosis = 2 * (1 - stats.norm.cdf(abs(z_kurtosis)))\n",
    "\n",
    "    results.append({\n",
    "        \"Sample Size\": n,\n",
    "        \"P-value Mean\": p_value_mean,\n",
    "        \"P-value Variance\": p_value_variance,\n",
    "        \"P-value Skewness\": p_value_skewness,\n",
    "        \"P-value Kurtosis\": p_value_kurtosis\n",
    "    })\n",
    "\n",
    "    print(f\"\\nResults for Sample Size: {n}\")\n",
    "    \n",
    "    # Mean\n",
    "    if p_value_mean > alpha:\n",
    "        print(\"Fail to reject H0 for mean.\")\n",
    "    else:\n",
    "        print(\"Reject H0 for Mean.\")\n",
    "\n",
    "    # Variance\n",
    "    if p_value_variance > alpha:\n",
    "        print(\"Fail to reject H0 for variance.\")\n",
    "    else:\n",
    "        print(\"Reject H0 for variance.\")\n",
    "\n",
    "    # Skewness\n",
    "    if p_value_skewness > alpha:\n",
    "        print(\"Fail to reject H0 for skewness.\")\n",
    "    else:\n",
    "        print(\"Reject H0 for skewness.\")\n",
    "\n",
    "    # Kurtosis\n",
    "    if p_value_kurtosis > alpha:\n",
    "        print(\"Fail to reject H0 for kurtosis.\")\n",
    "    else:\n",
    "        print(\"Reject H0 for kurtosis.\")\n",
    "\n",
    "results_df = pd.DataFrame(results)\n",
    "\n",
    "print(\"\\nSummary Results for all Sample Sizes:\")\n",
    "print(results_df)"
   ]
  }
 ],
 "metadata": {
  "kernelspec": {
   "display_name": "Python 3",
   "language": "python",
   "name": "python3"
  },
  "language_info": {
   "codemirror_mode": {
    "name": "ipython",
    "version": 3
   },
   "file_extension": ".py",
   "mimetype": "text/x-python",
   "name": "python",
   "nbconvert_exporter": "python",
   "pygments_lexer": "ipython3",
   "version": "3.8.8"
  }
 },
 "nbformat": 4,
 "nbformat_minor": 5
}
