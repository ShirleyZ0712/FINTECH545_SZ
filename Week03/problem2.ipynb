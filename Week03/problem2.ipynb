{
 "cells": [
  {
   "cell_type": "code",
   "execution_count": 39,
   "id": "1b1c18ef",
   "metadata": {},
   "outputs": [],
   "source": [
    "import numpy as np\n",
    "from scipy.linalg import cholesky, eigvalsh, eigh\n",
    "import time\n",
    "import matplotlib.pyplot as plt\n",
    "import pandas as pd"
   ]
  },
  {
   "cell_type": "code",
   "execution_count": 40,
   "id": "926b274c",
   "metadata": {},
   "outputs": [
    {
     "name": "stdout",
     "output_type": "stream",
     "text": [
      "Eigenvalues: [4.64053565e+00 1.50909392e-16 1.59464350e-01 1.00000000e-01\n",
      " 1.00000000e-01]\n",
      "Reconstructed Sigma matches original: True\n"
     ]
    }
   ],
   "source": [
    "def chol_pd(a):\n",
    "\n",
    "    n = a.shape[0]\n",
    "    root = np.zeros_like(a)\n",
    "\n",
    "    for j in range(n):\n",
    "        s = 0.0\n",
    "        if j > 0:\n",
    "            s = np.dot(root[j, :j], root[j, :j])\n",
    "\n",
    "        root[j, j] = np.sqrt(a[j, j] - s)\n",
    "\n",
    "        ir = 1.0 / root[j, j]\n",
    "        for i in range(j + 1, n):\n",
    "            s = np.dot(root[i, :j], root[j, :j])\n",
    "            root[i, j] = (a[i, j] - s) * ir\n",
    "\n",
    "    return root\n",
    "\n",
    "def chol_psd(a, tol=1e-8):\n",
    "\n",
    "    n = a.shape[0]\n",
    "    root = np.zeros_like(a)\n",
    "\n",
    "    for j in range(n):\n",
    "        s = 0.0\n",
    "        if j > 0:\n",
    "            s = np.dot(root[j, :j], root[j, :j])\n",
    "\n",
    "        temp = a[j, j] - s\n",
    "        if temp < 0 and temp >= -tol:\n",
    "            temp = 0.0\n",
    "        elif temp < -tol:\n",
    "            raise np.linalg.LinAlgError(\"Matrix is not positive semi-definite\")\n",
    "\n",
    "        root[j, j] = np.sqrt(temp)\n",
    "\n",
    "        if root[j, j] > 0.0:\n",
    "            ir = 1.0 / root[j, j]\n",
    "            for i in range(j + 1, n):\n",
    "                s = np.dot(root[i, :j], root[j, :j])\n",
    "                root[i, j] = (a[i, j] - s) * ir\n",
    "\n",
    "    return root\n",
    "\n",
    "n = 5\n",
    "sigma = np.full((n, n), 0.9)\n",
    "np.fill_diagonal(sigma, 1.0)\n",
    "\n",
    "sigma[0, 1] = 1.0\n",
    "sigma[1, 0] = 1.0\n",
    "\n",
    "eigenvalues = np.linalg.eigvals(sigma)\n",
    "print(\"Eigenvalues:\", eigenvalues)\n",
    "\n",
    "root = chol_psd(sigma)\n",
    "reconstructed_sigma = root @ root.T\n",
    "print(\"Reconstructed Sigma matches original:\", np.allclose(sigma, reconstructed_sigma))"
   ]
  },
  {
   "cell_type": "code",
   "execution_count": 41,
   "id": "4bf947e7",
   "metadata": {},
   "outputs": [
    {
     "name": "stdout",
     "output_type": "stream",
     "text": [
      "Minimum eigenvalue before fixing: -0.06364303890470846\n",
      "Minimum eigenvalue after fixing: 1.2936040991650863e-13\n"
     ]
    }
   ],
   "source": [
    "def near_psd(a, epsilon=0):\n",
    "\n",
    "    n = a.shape[0]\n",
    "    w, v = eigh(a)\n",
    "    w = np.maximum(w, epsilon)\n",
    "    T = v * np.sqrt(w)\n",
    "    return T @ T.T\n",
    "\n",
    "n = 500\n",
    "sigma = np.full((n, n), 0.9)\n",
    "np.fill_diagonal(sigma, 1.0)\n",
    "sigma[0, 1] = 0.7357\n",
    "sigma[1, 0] = 0.7357\n",
    "\n",
    "eigenvalues = eigvalsh(sigma)\n",
    "print(\"Minimum eigenvalue before fixing:\", np.min(eigenvalues))\n",
    "\n",
    "sigma_near_psd = near_psd(sigma)\n",
    "\n",
    "eigenvalues_fixed = eigvalsh(sigma_near_psd)\n",
    "print(\"Minimum eigenvalue after fixing:\", np.min(eigenvalues_fixed))"
   ]
  },
  {
   "cell_type": "code",
   "execution_count": 42,
   "id": "476eb2ce",
   "metadata": {},
   "outputs": [],
   "source": [
    "def higham_nearest_psd(matrix, tol=1e-8, max_iter=100):\n",
    "\n",
    "    n = matrix.shape[0]\n",
    "    Y = matrix.copy()\n",
    "    deltaS = np.zeros_like(matrix)\n",
    "    for k in range(max_iter):\n",
    "        R = Y - deltaS\n",
    "        X = (R + R.T) / 2\n",
    "        \n",
    "        eigvals, eigvecs = np.linalg.eigh(X)\n",
    "        \n",
    "        eigvals_clipped = np.maximum(eigvals, 0)\n",
    "        \n",
    "        X_psd = eigvecs @ np.diag(eigvals_clipped) @ eigvecs.T\n",
    "        \n",
    "        deltaS = X_psd - R\n",
    "        Y = X_psd\n",
    "        \n",
    "        if np.linalg.norm(deltaS, 'fro') < tol:\n",
    "            break\n",
    "\n",
    "    return X_psd"
   ]
  },
  {
   "cell_type": "code",
   "execution_count": 43,
   "id": "ac6e4595",
   "metadata": {},
   "outputs": [
    {
     "name": "stdout",
     "output_type": "stream",
     "text": [
      "Frobenius Norm between original and fixed matrix: 0.0636430389046896\n",
      "Time taken by near_psd function: 0.014998912811279297 seconds\n"
     ]
    }
   ],
   "source": [
    "fro_norm_original = np.linalg.norm(sigma - sigma_near_psd, 'fro')\n",
    "print(\"Frobenius Norm between original and fixed matrix:\", fro_norm_original)\n",
    "\n",
    "start_time = time.time()\n",
    "sigma_near_psd = near_psd(sigma)\n",
    "time_near_psd = time.time() - start_time\n",
    "\n",
    "print(\"Time taken by near_psd function:\", time_near_psd, \"seconds\")\n"
   ]
  },
  {
   "cell_type": "code",
   "execution_count": 44,
   "id": "f98a1b76",
   "metadata": {},
   "outputs": [
    {
     "name": "stdout",
     "output_type": "stream",
     "text": [
      "Simulating with 4 principal components: 100.00% total variance explained\n",
      "Covariance of simulated data:\n",
      " [[0.25053981 0.25053981 0.22502266 0.22589815 0.22312757]\n",
      " [0.25053981 0.25053981 0.22502266 0.22589815 0.22312757]\n",
      " [0.22502266 0.22502266 0.24942494 0.2253886  0.22358177]\n",
      " [0.22589815 0.22589815 0.2253886  0.25161733 0.22416023]\n",
      " [0.22312757 0.22312757 0.22358177 0.22416023 0.2471185 ]]\n",
      "Simulating with 3 principal components: 98.00% total variance explained\n",
      "Covariance of simulated data with 3 PCs:\n",
      " [[0.24742779 0.24742779 0.22347194 0.22311312 0.22383075]\n",
      " [0.24742779 0.24742779 0.22347194 0.22311312 0.22383075]\n",
      " [0.22347194 0.22347194 0.23274488 0.23227877 0.23321099]\n",
      " [0.22311312 0.22311312 0.23227877 0.24455041 0.22000714]\n",
      " [0.22383075 0.22383075 0.23321099 0.22000714 0.24641483]]\n",
      "Simulating with 2 principal components: 96.00% total variance explained\n",
      "Covariance of simulated data with 2 PCs:\n",
      " [[0.25151028 0.25151028 0.22639617 0.22639617 0.22639617]\n",
      " [0.25151028 0.25151028 0.22639617 0.22639617 0.22639617]\n",
      " [0.22639617 0.22639617 0.23467934 0.23467934 0.23467934]\n",
      " [0.22639617 0.22639617 0.23467934 0.23467934 0.23467934]\n",
      " [0.22639617 0.22639617 0.23467934 0.23467934 0.23467934]]\n"
     ]
    }
   ],
   "source": [
    "def simulate_pca(a, nsim, nval=None):\n",
    "\n",
    "    vals, vecs = eigh(a)\n",
    "\n",
    "    idx = np.argsort(vals)[::-1]\n",
    "    vals = vals[idx]\n",
    "    vecs = vecs[:, idx]\n",
    "\n",
    "    total_variance = np.sum(vals)\n",
    "    positive_eigenvalues = vals[vals > 1e-8]\n",
    "\n",
    "    if nval is not None and nval < len(positive_eigenvalues):\n",
    "        vals = vals[:nval]\n",
    "        vecs = vecs[:, :nval]\n",
    "    else:\n",
    "        vals = positive_eigenvalues\n",
    "        vecs = vecs[:, :len(vals)]\n",
    "\n",
    "    explained_variance = np.sum(vals) / total_variance * 100\n",
    "    print(f\"Simulating with {len(vals)} principal components: {explained_variance:.2f}% total variance explained\")\n",
    "\n",
    "    B = vecs @ np.diag(np.sqrt(vals))\n",
    "    r = np.random.randn(len(vals), nsim)\n",
    "    simulated_data = (B @ r).T\n",
    "    return simulated_data\n",
    "\n",
    "n = 5\n",
    "sigma = np.full((n, n), 0.9)\n",
    "np.fill_diagonal(sigma, 1.0)\n",
    "sigma[0, 1] = 1.0\n",
    "sigma[1, 0] = 1.0\n",
    "\n",
    "v = np.diag([0.5] * n)\n",
    "sigma = v @ sigma @ v\n",
    "\n",
    "sim = simulate_pca(sigma, 10000)\n",
    "print(\"Covariance of simulated data:\\n\", np.cov(sim, rowvar=False))\n",
    "\n",
    "sim = simulate_pca(sigma, 10000, nval=3)\n",
    "print(\"Covariance of simulated data with 3 PCs:\\n\", np.cov(sim, rowvar=False))\n",
    "\n",
    "sim = simulate_pca(sigma, 10000, nval=2)\n",
    "print(\"Covariance of simulated data with 2 PCs:\\n\", np.cov(sim, rowvar=False))"
   ]
  },
  {
   "cell_type": "code",
   "execution_count": 45,
   "id": "47f9fc00",
   "metadata": {},
   "outputs": [
    {
     "data": {
      "image/png": "[encoded data removed]",
      "text/plain": [
       "<Figure size 720x432 with 1 Axes>"
      ]
     },
     "metadata": {
      "needs_background": "light"
     },
     "output_type": "display_data"
    },
    {
     "data": {
      "image/png": "[encoded data removed]",
      "text/plain": [
       "<Figure size 720x432 with 1 Axes>"
      ]
     },
     "metadata": {
      "needs_background": "light"
     },
     "output_type": "display_data"
    }
   ],
   "source": [
    "def populate_weights(n, lambd):\n",
    "\n",
    "    x = np.arange(1, n + 1)\n",
    "    w = np.array([(1 - lambd) * lambd**i for i in range(n)])\n",
    "    cumulative_w = np.cumsum(w)\n",
    "    w /= cumulative_w[-1]\n",
    "    cumulative_w /= cumulative_w[-1]\n",
    "    return x, w, cumulative_w\n",
    "\n",
    "n = 100\n",
    "lambdas = [0.75, 0.90, 0.97, 0.99]\n",
    "weights_df = pd.DataFrame()\n",
    "cumulative_weights_df = pd.DataFrame()\n",
    "\n",
    "for lambd in lambdas:\n",
    "    x, w, cumulative_w = populate_weights(n, lambd)\n",
    "    weights_df[f'λ={lambd}'] = w\n",
    "    cumulative_weights_df[f'λ={lambd}'] = cumulative_w\n",
    "\n",
    "weights_df['x'] = x\n",
    "cumulative_weights_df['x'] = x\n",
    "\n",
    "plt.figure(figsize=(10, 6))\n",
    "for lambd in lambdas:\n",
    "    plt.plot(weights_df['x'], weights_df[f'λ={lambd}'], label=f'λ={lambd}')\n",
    "plt.title('Weights')\n",
    "plt.legend()\n",
    "plt.show()\n",
    "\n",
    "plt.figure(figsize=(10, 6))\n",
    "for lambd in lambdas:\n",
    "    plt.plot(cumulative_weights_df['x'], cumulative_weights_df[f'λ={lambd}'], label=f'λ={lambd}')\n",
    "plt.title('Cumulative Weights')\n",
    "plt.legend()\n",
    "plt.show()\n"
   ]
  },
  {
   "cell_type": "code",
   "execution_count": 46,
   "id": "2af129d9",
   "metadata": {},
   "outputs": [
    {
     "name": "stdout",
     "output_type": "stream",
     "text": [
      "Eigenvalues of pairwise covariance matrix: [2.59108586 1.48288463 0.55698325 0.02037401 0.27002419]\n"
     ]
    }
   ],
   "source": [
    "def generate_with_missing(n, m, pmiss=0.25):\n",
    "\n",
    "    x = np.random.randn(n, m)\n",
    "    mask = np.random.rand(n, m) < pmiss\n",
    "    x[mask] = np.nan\n",
    "    return x\n",
    "\n",
    "np.random.seed(2)\n",
    "x = generate_with_missing(10, 5, pmiss=0.2)\n",
    "\n",
    "def missing_cov(x, skip_miss=True, func=np.cov):\n",
    "\n",
    "    n, m = x.shape\n",
    "    if np.isnan(x).sum() == 0:\n",
    "        return func(x, rowvar=False)\n",
    "\n",
    "    if skip_miss:\n",
    "        valid_rows = ~np.isnan(x).any(axis=1)\n",
    "        return func(x[valid_rows], rowvar=False)\n",
    "    else:\n",
    "        out = np.zeros((m, m))\n",
    "        for i in range(m):\n",
    "            for j in range(i + 1):\n",
    "                valid_rows = ~np.isnan(x[:, [i, j]]).any(axis=1)\n",
    "                if valid_rows.sum() > 1:\n",
    "                    cov_ij = func(x[valid_rows][:, [i, j]].T)\n",
    "                    out[i, j] = cov_ij[0, 1]\n",
    "                    out[j, i] = out[i, j]\n",
    "                else:\n",
    "                    out[i, j] = np.nan\n",
    "                    out[j, i] = np.nan\n",
    "        return out\n",
    "\n",
    "skip_miss_cov = missing_cov(x)\n",
    "pairwise_cov = missing_cov(x, skip_miss=False)\n",
    "\n",
    "eigenvalues_pairwise = np.linalg.eigvals(pairwise_cov)\n",
    "print(\"Eigenvalues of pairwise covariance matrix:\", eigenvalues_pairwise)\n",
    "\n",
    "root_skip_miss = chol_psd(skip_miss_cov)\n",
    "root_pairwise = chol_psd(pairwise_cov)"
   ]
  },
  {
   "cell_type": "code",
   "execution_count": 38,
   "id": "1d946c85",
   "metadata": {},
   "outputs": [
    {
     "name": "stdout",
     "output_type": "stream",
     "text": [
      "Near PSD Times: [0.003000497817993164, 0.0009999275207519531, 0.017000675201416016, 0.09699749946594238]\n",
      "Higham PSD Times: [0.06900310516357422, 0.20299601554870605, 2.1350016593933105, 17.37837862968445]\n",
      "Frobenius Norms (Near PSD): [0.061019868514893986, 0.06265848337003005, 0.0636430389046896, 0.06397145985688157]\n",
      "Frobenius Norms (Higham PSD): [0.06101986851489391, 0.06265848337002992, 0.06364303890468949, 0.06397145985688116]\n"
     ]
    }
   ],
   "source": [
    "import time\n",
    "\n",
    "def frobenius_norm(matrix1, matrix2):\n",
    "    return np.linalg.norm(matrix1 - matrix2, 'fro')\n",
    "\n",
    "n_values = [100, 200, 500, 1000]\n",
    "times_chol_psd = []\n",
    "times_near_psd = []\n",
    "times_higham = []\n",
    "frobenius_chol_psd = []\n",
    "frobenius_near_psd = []\n",
    "frobenius_higham = []\n",
    "\n",
    "for n in n_values:\n",
    "    sigma = np.full((n, n), 0.9)\n",
    "    np.fill_diagonal(sigma, 1.0)\n",
    "    sigma[0, 1] = 0.7357\n",
    "    sigma[1, 0] = 0.7357\n",
    "\n",
    "    start_time = time.time()\n",
    "    sigma_near_psd = near_psd(sigma)\n",
    "    times_near_psd.append(time.time() - start_time)\n",
    "    frobenius_near_psd.append(frobenius_norm(sigma, sigma_near_psd))\n",
    "\n",
    "    start_time = time.time()\n",
    "    sigma_higham_psd = higham_nearest_psd(sigma)\n",
    "    times_higham.append(time.time() - start_time)\n",
    "    frobenius_higham.append(frobenius_norm(sigma, sigma_higham_psd))\n",
    "\n",
    "print(\"Near PSD Times:\", times_near_psd)\n",
    "print(\"Higham PSD Times:\", times_higham)\n",
    "print(\"Frobenius Norms (Near PSD):\", frobenius_near_psd)\n",
    "print(\"Frobenius Norms (Higham PSD):\", frobenius_higham)"
   ]
  }
 ],
 "metadata": {
  "kernelspec": {
   "display_name": "Python 3",
   "language": "python",
   "name": "python3"
  },
  "language_info": {
   "codemirror_mode": {
    "name": "ipython",
    "version": 3
   },
   "file_extension": ".py",
   "mimetype": "text/x-python",
   "name": "python",
   "nbconvert_exporter": "python",
   "pygments_lexer": "ipython3",
   "version": "3.8.8"
  }
 },
 "nbformat": 4,
 "nbformat_minor": 5
}
