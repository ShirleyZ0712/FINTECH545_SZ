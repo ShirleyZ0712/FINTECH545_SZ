{
 "cells": [
  {
   "cell_type": "code",
   "execution_count": 1,
   "id": "370e2550",
   "metadata": {},
   "outputs": [],
   "source": [
    "import numpy as np\n",
    "import pandas as pd\n",
    "import scipy.stats as stats\n",
    "\n",
    "file_path_prices = 'DailyPrices.csv'\n",
    "file_path_portfolio = 'Portfolio.csv'\n",
    "prices_df = pd.read_csv(file_path_prices)\n",
    "portfolio_df = pd.read_csv(file_path_portfolio)"
   ]
  },
  {
   "cell_type": "code",
   "execution_count": 2,
   "id": "a137a054",
   "metadata": {},
   "outputs": [],
   "source": [
    "# Daily Returns\n",
    "def return_calculate(prices: pd.DataFrame, method=\"DISCRETE\", date_column=\"Date\"):\n",
    "    if date_column not in prices.columns:\n",
    "        raise ValueError(f\"date_column: {date_column} not in DataFrame\")\n",
    "\n",
    "    vars = prices.columns.tolist()\n",
    "    vars.remove(date_column)\n",
    "\n",
    "    p = prices[vars].to_numpy()\n",
    "    n, m = p.shape\n",
    "\n",
    "    p2 = np.zeros((n-1, m))\n",
    "\n",
    "    if method.upper() == \"DISCRETE\":\n",
    "        p2 = (p[1:, :] / p[:-1, :]) - 1.0\n",
    "    elif method.upper() == \"LOG\":\n",
    "        p2 = np.log(p[1:, :] / p[:-1, :])\n",
    "    else:\n",
    "        raise ValueError(f\"Invalid method '{method}'. Must be 'DISCRETE' or 'LOG'.\")\n",
    "\n",
    "    dates = prices[date_column].iloc[1:].reset_index(drop=True)\n",
    "    returns_df = pd.DataFrame(p2, columns=vars)\n",
    "    returns_df.insert(0, date_column, dates)\n",
    "    \n",
    "    return returns_df\n"
   ]
  },
  {
   "cell_type": "code",
   "execution_count": 3,
   "id": "3fd9de46",
   "metadata": {},
   "outputs": [],
   "source": [
    "# Exponentially Weighted Covariance Function\n",
    "def ew_covariance(returns, lambda_=0.97):\n",
    "    n, m = returns.shape\n",
    "    weights = np.array([(1 - lambda_) * lambda_ ** i for i in range(n)])[::-1]\n",
    "    weights /= weights.sum()\n",
    "    \n",
    "    mean_returns = np.average(returns, axis=0, weights=weights)\n",
    "    deviations = returns - mean_returns\n",
    "    weighted_cov_matrix = np.zeros((m, m))\n",
    "    \n",
    "    for i in range(n):\n",
    "        weighted_cov_matrix += weights[i] * np.outer(deviations[i], deviations[i])\n",
    "    \n",
    "    return weighted_cov_matrix\n",
    "\n",
    "# VaR Calculation\n",
    "def ewma_var(holdings, covariance_matrix, portfolio_value, alpha=0.05):\n",
    "    portfolio_weights = holdings / holdings.sum()\n",
    "    portfolio_variance = portfolio_weights.T @ covariance_matrix @ portfolio_weights\n",
    "    portfolio_std = np.sqrt(portfolio_variance)\n",
    "    var_percentage = stats.norm.ppf(alpha) * portfolio_std\n",
    "    var_dollar = portfolio_value * abs(var_percentage)\n",
    "    return var_dollar"
   ]
  },
  {
   "cell_type": "code",
   "execution_count": 4,
   "id": "9241b7b4",
   "metadata": {},
   "outputs": [],
   "source": [
    "# Portfolio Value\n",
    "def calculate_portfolio_value(portfolio_df, latest_prices):\n",
    "    portfolio_values = {}\n",
    "\n",
    "    unique_portfolios = portfolio_df['Portfolio'].unique()\n",
    "\n",
    "    for portfolio in unique_portfolios:\n",
    "        portfolio_holdings = portfolio_df[portfolio_df['Portfolio'] == portfolio]\n",
    "        total_value = 0\n",
    "        for _, row in portfolio_holdings.iterrows():\n",
    "            stock = row['Stock']\n",
    "            shares = row['Holding']\n",
    "\n",
    "            if stock in latest_prices.index:\n",
    "                stock_price = latest_prices[stock]\n",
    "                total_value += stock_price * shares\n",
    "\n",
    "        portfolio_values[portfolio] = total_value\n",
    "    \n",
    "    return portfolio_values\n"
   ]
  },
  {
   "cell_type": "code",
   "execution_count": 5,
   "id": "f412ca70",
   "metadata": {},
   "outputs": [],
   "source": [
    "arithmetic_returns_df = return_calculate(prices_df, method=\"DISCRETE\", date_column=\"Date\")\n",
    "log_returns_df = return_calculate(prices_df, method=\"LOG\", date_column=\"Date\")\n",
    "\n",
    "portfolio_stocks = portfolio_df['Stock'].unique()\n",
    "available_stocks = [stock for stock in portfolio_stocks if stock in arithmetic_returns_df.columns]\n",
    "\n",
    "filtered_portfolio_df = portfolio_df[portfolio_df['Stock'].isin(available_stocks)]\n",
    "\n",
    "filtered_portfolio_A = filtered_portfolio_df[filtered_portfolio_df['Portfolio'] == 'A']['Holding'].values\n",
    "filtered_portfolio_B = filtered_portfolio_df[filtered_portfolio_df['Portfolio'] == 'B']['Holding'].values\n",
    "filtered_portfolio_C = filtered_portfolio_df[filtered_portfolio_df['Portfolio'] == 'C']['Holding'].values\n",
    "\n",
    "# Latest stock prices\n",
    "latest_prices = prices_df.iloc[-1]"
   ]
  },
  {
   "cell_type": "code",
   "execution_count": 6,
   "id": "fd196f5a",
   "metadata": {},
   "outputs": [],
   "source": [
    "# Calculate portfolio values in $\n",
    "portfolio_values = calculate_portfolio_value(filtered_portfolio_df, latest_prices)\n",
    "portfolio_value_A = portfolio_values.get('A', 0)\n",
    "portfolio_value_B = portfolio_values.get('B', 0)\n",
    "portfolio_value_C = portfolio_values.get('C', 0)"
   ]
  },
  {
   "cell_type": "code",
   "execution_count": 7,
   "id": "cbb1302a",
   "metadata": {},
   "outputs": [],
   "source": [
    "returns_matrix_A_arithmetic = arithmetic_returns_df[available_stocks].to_numpy()\n",
    "returns_matrix_A_log = log_returns_df[available_stocks].to_numpy()\n",
    "\n",
    "returns_matrix_A_arithmetic_filtered = returns_matrix_A_arithmetic[:, :len(filtered_portfolio_A)]\n",
    "returns_matrix_A_log_filtered = returns_matrix_A_log[:, :len(filtered_portfolio_A)]\n",
    "\n",
    "returns_matrix_B_arithmetic_filtered = returns_matrix_A_arithmetic[:, :len(filtered_portfolio_B)]\n",
    "returns_matrix_B_log_filtered = returns_matrix_A_log[:, :len(filtered_portfolio_B)]\n",
    "\n",
    "returns_matrix_C_arithmetic_filtered = returns_matrix_A_arithmetic[:, :len(filtered_portfolio_C)]\n",
    "returns_matrix_C_log_filtered = returns_matrix_A_log[:, :len(filtered_portfolio_C)]\n"
   ]
  },
  {
   "cell_type": "code",
   "execution_count": 8,
   "id": "9a4cfc24",
   "metadata": {},
   "outputs": [],
   "source": [
    "cov_matrix_A_arithmetic = ew_covariance(returns_matrix_A_arithmetic_filtered)\n",
    "cov_matrix_A_log = ew_covariance(returns_matrix_A_log_filtered)\n",
    "\n",
    "cov_matrix_B_arithmetic = ew_covariance(returns_matrix_B_arithmetic_filtered)\n",
    "cov_matrix_B_log = ew_covariance(returns_matrix_B_log_filtered)\n",
    "\n",
    "cov_matrix_C_arithmetic = ew_covariance(returns_matrix_C_arithmetic_filtered)\n",
    "cov_matrix_C_log = ew_covariance(returns_matrix_C_log_filtered)"
   ]
  },
  {
   "cell_type": "code",
   "execution_count": 9,
   "id": "58eb29d7",
   "metadata": {},
   "outputs": [],
   "source": [
    "var_A_ewma_arithmetic = ewma_var(filtered_portfolio_A, cov_matrix_A_arithmetic, portfolio_value_A)\n",
    "var_A_ewma_log = ewma_var(filtered_portfolio_A, cov_matrix_A_log, portfolio_value_A)\n",
    "\n",
    "var_B_ewma_arithmetic = ewma_var(filtered_portfolio_B, cov_matrix_B_arithmetic, portfolio_value_B)\n",
    "var_B_ewma_log = ewma_var(filtered_portfolio_B, cov_matrix_B_log, portfolio_value_B)\n",
    "\n",
    "var_C_ewma_arithmetic = ewma_var(filtered_portfolio_C, cov_matrix_C_arithmetic, portfolio_value_C)\n",
    "var_C_ewma_log = ewma_var(filtered_portfolio_C, cov_matrix_C_log, portfolio_value_C)"
   ]
  },
  {
   "cell_type": "code",
   "execution_count": 10,
   "id": "a737d567",
   "metadata": {},
   "outputs": [],
   "source": [
    "total_value = portfolio_value_A + portfolio_value_B + portfolio_value_C\n",
    "total_holdings = np.concatenate([filtered_portfolio_A, filtered_portfolio_B, filtered_portfolio_C])\n",
    "\n",
    "total_returns_matrix_arithmetic = np.concatenate([returns_matrix_A_arithmetic_filtered, returns_matrix_B_arithmetic_filtered, returns_matrix_C_arithmetic_filtered], axis=1)\n",
    "total_returns_matrix_log = np.concatenate([returns_matrix_A_log_filtered, returns_matrix_B_log_filtered, returns_matrix_C_log_filtered], axis=1)\n",
    "\n",
    "total_cov_matrix_arithmetic = ew_covariance(total_returns_matrix_arithmetic)\n",
    "total_cov_matrix_log = ew_covariance(total_returns_matrix_log)\n",
    "\n",
    "total_var_ewma_arithmetic = ewma_var(total_holdings, total_cov_matrix_arithmetic, total_value)\n",
    "total_var_ewma_log = ewma_var(total_holdings, total_cov_matrix_log, total_value)"
   ]
  },
  {
   "cell_type": "code",
   "execution_count": 11,
   "id": "2c22e459",
   "metadata": {},
   "outputs": [
    {
     "name": "stdout",
     "output_type": "stream",
     "text": [
      "Portfolio A EWMA VaR in $ (Arithmetic Returns): 6214.882145710423\n",
      "Portfolio A EWMA VaR in $ (Log Returns): 6308.772780848762\n",
      "Portfolio B EWMA VaR in $ (Arithmetic Returns): 6628.232740705449\n",
      "Portfolio B EWMA VaR in $ (Log Returns): 6665.5789650746865\n",
      "Portfolio C EWMA VaR in $ (Arithmetic Returns): 4916.82753006697\n",
      "Portfolio C EWMA VaR in $ (Log Returns): 4931.821147848847\n",
      "Total Portfolio EWMA VaR in $ (Arithmetic Returns): 17238.033245865045\n",
      "Total Portfolio EWMA VaR in $ (Log Returns): 17379.775182704838\n"
     ]
    }
   ],
   "source": [
    "print(f\"Portfolio A EWMA VaR in $ (Arithmetic Returns): {var_A_ewma_arithmetic}\")\n",
    "print(f\"Portfolio A EWMA VaR in $ (Log Returns): {var_A_ewma_log}\")\n",
    "\n",
    "print(f\"Portfolio B EWMA VaR in $ (Arithmetic Returns): {var_B_ewma_arithmetic}\")\n",
    "print(f\"Portfolio B EWMA VaR in $ (Log Returns): {var_B_ewma_log}\")\n",
    "\n",
    "print(f\"Portfolio C EWMA VaR in $ (Arithmetic Returns): {var_C_ewma_arithmetic}\")\n",
    "print(f\"Portfolio C EWMA VaR in $ (Log Returns): {var_C_ewma_log}\")\n",
    "\n",
    "print(f\"Total Portfolio EWMA VaR in $ (Arithmetic Returns): {total_var_ewma_arithmetic}\")\n",
    "print(f\"Total Portfolio EWMA VaR in $ (Log Returns): {total_var_ewma_log}\")\n"
   ]
  }
 ],
 "metadata": {
  "kernelspec": {
   "display_name": "Python 3",
   "language": "python",
   "name": "python3"
  },
  "language_info": {
   "codemirror_mode": {
    "name": "ipython",
    "version": 3
   },
   "file_extension": ".py",
   "mimetype": "text/x-python",
   "name": "python",
   "nbconvert_exporter": "python",
   "pygments_lexer": "ipython3",
   "version": "3.8.8"
  }
 },
 "nbformat": 4,
 "nbformat_minor": 5
}
