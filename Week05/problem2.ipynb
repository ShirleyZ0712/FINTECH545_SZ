{
 "cells": [
  {
   "cell_type": "code",
   "execution_count": 27,
   "id": "6dd0c15d",
   "metadata": {},
   "outputs": [],
   "source": [
    "import numpy as np\n",
    "import pandas as pd\n",
    "from scipy.stats import t, norm\n",
    "from scipy.optimize import minimize\n",
    "\n",
    "file = 'problem1.csv'\n",
    "data = pd.read_csv(file)\n",
    "returns = data['x'].values"
   ]
  },
  {
   "cell_type": "markdown",
   "id": "27001c76",
   "metadata": {},
   "source": [
    "Normal Distribution with an Exponentially Weighted Variance"
   ]
  },
  {
   "cell_type": "code",
   "execution_count": 38,
   "id": "d053eb38",
   "metadata": {},
   "outputs": [],
   "source": [
    "alpha = 0.95\n",
    "lambda_value = 0.97\n"
   ]
  },
  {
   "cell_type": "code",
   "execution_count": 52,
   "id": "861137de",
   "metadata": {
    "scrolled": true
   },
   "outputs": [
    {
     "name": "stdout",
     "output_type": "stream",
     "text": [
      "Value at Risk (VaR): -0.09028950269062073\n",
      "Expected Shortfall (ES): 0.11410650846697049\n"
     ]
    }
   ],
   "source": [
    "def exponentially_weighted_variance(returns, lambda_value):\n",
    "    weights = np.array([(1 - lambda_value) * (lambda_value ** i) for i in range(len(returns))])[::-1]\n",
    "    weighted_mean = np.mean(returns)\n",
    "    weighted_variance = np.dot(weights, (returns - weighted_mean) ** 2)\n",
    "    return weighted_mean, np.sqrt(weighted_variance)\n",
    "\n",
    "mean_return, std_dev = exponentially_weighted_variance(returns, lambda_value)\n",
    "\n",
    "VaR = norm.ppf(1 - alpha) * std_dev\n",
    "\n",
    "f_alpha = norm.pdf(norm.ppf(1 - alpha))\n",
    "ES = -mean_return + std_dev * f_alpha / (1-alpha)\n",
    "\n",
    "print(\"Value at Risk (VaR):\", VaR)\n",
    "print(\"Expected Shortfall (ES):\", ES)"
   ]
  },
  {
   "cell_type": "markdown",
   "id": "5c2da887",
   "metadata": {},
   "source": [
    "MLE fitted T distribution"
   ]
  },
  {
   "cell_type": "code",
   "execution_count": 11,
   "id": "a17b5858",
   "metadata": {},
   "outputs": [
    {
     "name": "stdout",
     "output_type": "stream",
     "text": [
      "Value at Risk (VaR) using T-distribution: -0.0764758759203622\n",
      "Expected Shortfall (ES) using T-distribution: -0.11321759703671269\n"
     ]
    }
   ],
   "source": [
    "def neg_log_likelihood(params, data):\n",
    "    nu, mu, sigma = params\n",
    "    return -np.sum(t.logpdf(data, df=nu, loc=mu, scale=sigma))\n",
    "\n",
    "initial_params = [10, np.mean(returns), np.std(returns)]\n",
    "\n",
    "bounds = [(2.1, None), (None, None), (0.001, None)]\n",
    "\n",
    "result = minimize(neg_log_likelihood, initial_params, args=(returns,), bounds=bounds)\n",
    "\n",
    "nu_mle, mu_mle, sigma_mle = result.x\n",
    "\n",
    "VaR_t = t.ppf(1 - alpha, df=nu_mle, loc=mu_mle, scale=sigma_mle)\n",
    "\n",
    "def expected_shortfall_t(alpha, nu, mu, sigma):\n",
    "    x_alpha = t.ppf(1 - alpha, df=nu)\n",
    "    pdf_alpha = t.pdf(x_alpha, df=nu)\n",
    "    cdf_alpha = 1 - alpha\n",
    "    ES = mu - sigma * (pdf_alpha * (nu + x_alpha**2) / (nu - 1)) / cdf_alpha\n",
    "    return ES\n",
    "\n",
    "ES_t = expected_shortfall_t(alpha, nu_mle, mu_mle, sigma_mle)\n",
    "\n",
    "print(\"Value at Risk (VaR) using T-distribution:\", VaR_t)\n",
    "print(\"Expected Shortfall (ES) using T-distribution:\", ES_t)"
   ]
  },
  {
   "cell_type": "markdown",
   "id": "f7f96d98",
   "metadata": {},
   "source": [
    "Historic Simulation"
   ]
  },
  {
   "cell_type": "code",
   "execution_count": 12,
   "id": "eb476e0e",
   "metadata": {},
   "outputs": [
    {
     "name": "stdout",
     "output_type": "stream",
     "text": [
      "Value at Risk (VaR) using Historical Simulation: -0.075861511162783\n",
      "Expected Shortfall (ES) using Historical Simulation: -0.11520303685782037\n"
     ]
    }
   ],
   "source": [
    "def historical_var(returns, alpha):\n",
    "    sorted_returns = np.sort(returns)\n",
    "    var_index = int((1 - alpha) * len(sorted_returns))\n",
    "    VaR_historical = sorted_returns[var_index]\n",
    "    return VaR_historical\n",
    "\n",
    "def historical_es(returns, alpha):\n",
    "    VaR_historical = historical_var(returns, alpha)\n",
    "    ES_historical = returns[returns <= VaR_historical].mean()\n",
    "    return ES_historical\n",
    "\n",
    "VaR_hist = historical_var(returns, alpha)\n",
    "ES_hist = historical_es(returns, alpha)\n",
    "\n",
    "print(\"Value at Risk (VaR) using Historical Simulation:\", VaR_hist)\n",
    "print(\"Expected Shortfall (ES) using Historical Simulation:\", ES_hist)"
   ]
  }
 ],
 "metadata": {
  "kernelspec": {
   "display_name": "Python 3",
   "language": "python",
   "name": "python3"
  },
  "language_info": {
   "codemirror_mode": {
    "name": "ipython",
    "version": 3
   },
   "file_extension": ".py",
   "mimetype": "text/x-python",
   "name": "python",
   "nbconvert_exporter": "python",
   "pygments_lexer": "ipython3",
   "version": "3.8.8"
  }
 },
 "nbformat": 4,
 "nbformat_minor": 5
}
