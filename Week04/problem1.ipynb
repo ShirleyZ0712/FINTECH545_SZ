{
 "cells": [
  {
   "cell_type": "code",
   "execution_count": 6,
   "id": "a1381f35",
   "metadata": {},
   "outputs": [
    {
     "name": "stdout",
     "output_type": "stream",
     "text": [
      "                                 Mean    Std Dev\n",
      "Classical Brownian Motion   99.999680   0.099858\n",
      "Arithmetic Return System    99.968008   9.985796\n",
      "Geometric Brownian Motion  100.467687  10.057791\n"
     ]
    }
   ],
   "source": [
    "import numpy as np\n",
    "import pandas as pd\n",
    "\n",
    "# Pre-define parameters\n",
    "sigma = np.sqrt(0.01)\n",
    "n = 100000\n",
    "P_t_minus_1 = 100\n",
    "\n",
    "returns = np.random.normal(0, sigma, n)\n",
    "\n",
    "# Classical Brownian Motion\n",
    "P_t_brownian = P_t_minus_1 + returns\n",
    "mean_brownian = np.mean(P_t_brownian)\n",
    "std_brownian = np.std(P_t_brownian)\n",
    "\n",
    "# Arithmetic Return System\n",
    "P_t_arithmetic = P_t_minus_1 * (1 + returns)\n",
    "mean_arithmetic = np.mean(P_t_arithmetic)\n",
    "std_arithmetic = np.std(P_t_arithmetic)\n",
    "\n",
    "# Geometric Brownian Motion\n",
    "P_t_log_return = P_t_minus_1 * np.exp(returns)\n",
    "mean_log_return = np.mean(P_t_log_return)\n",
    "std_log_return = np.std(P_t_log_return)\n",
    "\n",
    "results = {\n",
    "    'Classical Brownian Motion': {'Mean': mean_brownian, 'Std Dev': std_brownian},\n",
    "    'Arithmetic Return System': {'Mean': mean_arithmetic, 'Std Dev': std_arithmetic},\n",
    "    'Geometric Brownian Motion': {'Mean': mean_log_return, 'Std Dev': std_log_return}\n",
    "}\n",
    "\n",
    "df_results = pd.DataFrame(results).T\n",
    "print(df_results)"
   ]
  }
 ],
 "metadata": {
  "kernelspec": {
   "display_name": "Python 3",
   "language": "python",
   "name": "python3"
  },
  "language_info": {
   "codemirror_mode": {
    "name": "ipython",
    "version": 3
   },
   "file_extension": ".py",
   "mimetype": "text/x-python",
   "name": "python",
   "nbconvert_exporter": "python",
   "pygments_lexer": "ipython3",
   "version": "3.8.8"
  }
 },
 "nbformat": 4,
 "nbformat_minor": 5
}
